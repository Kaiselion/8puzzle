{
 "cells": [
  {
   "cell_type": "code",
   "execution_count": 1,
   "metadata": {
    "collapsed": true
   },
   "outputs": [],
   "source": [
    "import numpy as np"
   ]
  },
  {
   "cell_type": "markdown",
   "metadata": {},
   "source": [
    "# 8-Puzzle"
   ]
  },
  {
   "cell_type": "markdown",
   "metadata": {},
   "source": [
    "#Problem definition\n"
   ]
  },
  {
   "cell_type": "code",
   "execution_count": 70,
   "metadata": {},
   "outputs": [
    {
     "name": "stdout",
     "output_type": "stream",
     "text": [
      "s_i\n",
      " [[1 2 3]\n",
      " [4 5 6]\n",
      " [7 0 8]]\n",
      "s_g\n",
      " [[1 2 3]\n",
      " [4 5 6]\n",
      " [7 8 0]]\n"
     ]
    }
   ],
   "source": [
    "s_i = np.array([[1,2,3],[4,5,6],[7,0,8]])\n",
    "print('s_i\\n',s_i)\n",
    "s_g = np.array([[1,2,3],[4,5,6],[7,8,0]])\n",
    "print('s_g\\n',s_g)"
   ]
  },
  {
   "cell_type": "markdown",
   "metadata": {},
   "source": [
    "### Methods"
   ]
  },
  {
   "cell_type": "code",
   "execution_count": 71,
   "metadata": {
    "collapsed": true
   },
   "outputs": [],
   "source": [
    "def possible_actions(s):\n",
    "        \n",
    "        actions = []\n",
    "        \n",
    "        idx = np.argwhere(s == 0)\n",
    "        \n",
    "        if(idx[0,0]-1 >= 0):\n",
    "            actions.append('down')\n",
    "        \n",
    "        if(idx[0,0]+1 <= 2):\n",
    "            actions.append('up')\n",
    "            \n",
    "        if(idx[0,1]-1 >= 0):\n",
    "            actions.append('right')\n",
    "        \n",
    "        if(idx[0,1]+1 <= 2):\n",
    "            actions.append('left')\n",
    "            \n",
    "        \n",
    "        \n",
    "        return actions\n",
    "    \n",
    "\n",
    "def new_state(s,a):\n",
    "        \n",
    "        idx = np.argwhere(s == 0)\n",
    "        new_s = s.copy()\n",
    "        if(a == 'up'):\n",
    "            new_s[idx[0,0],idx[0,1]] = new_s[idx[0,0]+1,idx[0,1]]\n",
    "            new_s[idx[0,0]+1,idx[0,1]] = 0\n",
    "            \n",
    "            \n",
    "        if(a == 'down'):\n",
    "            new_s[idx[0,0],idx[0,1]] = new_s[idx[0,0]-1,idx[0,1]]\n",
    "            new_s[idx[0,0]-1,idx[0,1]] = 0\n",
    "            \n",
    "        \n",
    "        if(a == 'left'):\n",
    "            new_s[idx[0,0],idx[0,1]] = new_s[idx[0,0],idx[0,1]+1]\n",
    "            new_s[idx[0,0],idx[0,1]+1] = 0\n",
    "            \n",
    "        \n",
    "        if(a == 'right'):\n",
    "            new_s[idx[0,0],idx[0,1]] = new_s[idx[0,0],idx[0,1]-1]\n",
    "            new_s[idx[0,0],idx[0,1]-1] = 0\n",
    "            \n",
    "            \n",
    "        return new_s\n",
    "    \n",
    "    \n",
    "    \n",
    "\n"
   ]
  },
  {
   "cell_type": "code",
   "execution_count": 72,
   "metadata": {},
   "outputs": [
    {
     "name": "stdout",
     "output_type": "stream",
     "text": [
      "['down', 'right', 'left']\n"
     ]
    }
   ],
   "source": [
    "print(possible_actions(s_i))"
   ]
  },
  {
   "cell_type": "code",
   "execution_count": 50,
   "metadata": {},
   "outputs": [],
   "source": [
    "s_2 = new_state(s_i,'right')\n"
   ]
  },
  {
   "cell_type": "code",
   "execution_count": 51,
   "metadata": {},
   "outputs": [
    {
     "name": "stdout",
     "output_type": "stream",
     "text": [
      "[[1 2 3]\n",
      " [0 4 6]\n",
      " [7 5 8]]\n"
     ]
    }
   ],
   "source": [
    "print(s_2)"
   ]
  },
  {
   "cell_type": "code",
   "execution_count": 63,
   "metadata": {
    "collapsed": true
   },
   "outputs": [],
   "source": [
    "class Node:\n",
    "    def __init__(self,father,state):\n",
    "        self.father = father\n",
    "        self.state = state\n",
    "        "
   ]
  },
  {
   "cell_type": "code",
   "execution_count": null,
   "metadata": {
    "collapsed": true
   },
   "outputs": [],
   "source": []
  },
  {
   "cell_type": "code",
   "execution_count": 77,
   "metadata": {},
   "outputs": [
    {
     "name": "stdout",
     "output_type": "stream",
     "text": [
      "nodo inicial\n",
      " [[1 2 3]\n",
      " [4 5 6]\n",
      " [7 0 8]]\n",
      "estado inicial\n",
      " [[1 2 3]\n",
      " [4 5 6]\n",
      " [7 0 8]]\n",
      "estado final\n",
      " [[1 2 3]\n",
      " [4 5 6]\n",
      " [7 8 0]]\n",
      "down\n",
      "right\n",
      "left\n"
     ]
    }
   ],
   "source": [
    "from collections import deque\n",
    "n = Node(None,s_i)\n",
    "print('nodo inicial\\n',n.state)\n",
    "print('estado inicial\\n',s_i)\n",
    "print('estado final\\n',s_g)\n",
    "\n",
    "    \n",
    "frontier = deque()\n",
    "frontier.append(n)\n",
    "\n",
    "\n",
    "explored = []\n",
    "\n",
    "def child_explored(child,explored):\n",
    "    \n",
    "    \n",
    "    \n",
    "    for state in explored:\n",
    "        if(np.array_equal(child,state) == True):\n",
    "            return True\n",
    "        \n",
    "    \n",
    "    return False\n",
    "       \n",
    "    \n",
    "    \n",
    "def child_frontier(child,frontier):\n",
    "    \n",
    "    \n",
    "\n",
    "    for node in frontier:\n",
    "        if(np.array_equal(child,node.state) == True):\n",
    "            return True\n",
    "    \n",
    "    return False\n",
    "            \n",
    "\n",
    "            \n",
    "while(True):\n",
    "    if len(frontier)==0:\n",
    "        \n",
    "        break\n",
    "    else:\n",
    "        frontier.popleft()\n",
    "        explored.append(n.state)\n",
    "        \n",
    "    \n",
    "    for actions in possible_actions(s_i):\n",
    "        print(actions)\n",
    "        child = Node(n,actions)\n",
    "        if (child_explored(child.state,explored)==False or child_frontier(child.state,frontier)==False):\n",
    "            if(np.array_equal(child.state,s_g)==True):\n",
    "                print('es la solucion')\n",
    "                break\n",
    "            \n",
    "        else:\n",
    "            \n",
    "            print('iguales')\n",
    "            break\n",
    "\n",
    "\n",
    "        "
   ]
  },
  {
   "cell_type": "code",
   "execution_count": null,
   "metadata": {
    "collapsed": true
   },
   "outputs": [],
   "source": []
  }
 ],
 "metadata": {
  "kernelspec": {
   "display_name": "Python 3",
   "language": "python",
   "name": "python3"
  },
  "language_info": {
   "codemirror_mode": {
    "name": "ipython",
    "version": 3
   },
   "file_extension": ".py",
   "mimetype": "text/x-python",
   "name": "python",
   "nbconvert_exporter": "python",
   "pygments_lexer": "ipython3",
   "version": "3.5.2"
  }
 },
 "nbformat": 4,
 "nbformat_minor": 2
}
