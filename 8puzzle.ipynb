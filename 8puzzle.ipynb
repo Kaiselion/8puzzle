{
 "cells": [
  {
   "cell_type": "code",
   "execution_count": 161,
   "metadata": {
    "collapsed": true
   },
   "outputs": [],
   "source": [
    "import numpy as np"
   ]
  },
  {
   "cell_type": "markdown",
   "metadata": {},
   "source": [
    "# 8-Puzzle"
   ]
  },
  {
   "cell_type": "markdown",
   "metadata": {},
   "source": [
    "#Problem definition\n"
   ]
  },
  {
   "cell_type": "code",
   "execution_count": 162,
   "metadata": {},
   "outputs": [
    {
     "name": "stdout",
     "output_type": "stream",
     "text": [
      "s_i\n",
      " [[1 2 3]\n",
      " [4 6 0]\n",
      " [7 5 8]]\n",
      "s_f\n",
      " [[1 2 3]\n",
      " [4 0 6]\n",
      " [7 5 8]]\n"
     ]
    }
   ],
   "source": [
    "s_i = np.array([[1,2,3],[4,6,0],[7,5,8]])\n",
    "print('s_i\\n',s_i)\n",
    "s_g = np.array([[1,2,3],[4,0,6],[7,5,8]])\n",
    "print('s_f\\n',s_g)"
   ]
  },
  {
   "cell_type": "markdown",
   "metadata": {},
   "source": [
    "### Methods"
   ]
  },
  {
   "cell_type": "code",
   "execution_count": 163,
   "metadata": {},
   "outputs": [],
   "source": [
    "def possible_actions(s):\n",
    "        \n",
    "        actions = []\n",
    "        \n",
    "        idx = np.argwhere(s == 0)\n",
    "        \n",
    "        if(idx[0,0]-1 >= 0):\n",
    "            actions.append('down')\n",
    "        \n",
    "        if(idx[0,0]+1 <= 2):\n",
    "            actions.append('up')\n",
    "            \n",
    "        if(idx[0,1]-1 >= 0):\n",
    "            actions.append('right')\n",
    "        \n",
    "        if(idx[0,1]+1 <= 2):\n",
    "            actions.append('left')\n",
    "            \n",
    "        \n",
    "        \n",
    "        return actions\n",
    "    \n",
    "\n",
    "def new_state(s,a):\n",
    "        \n",
    "        idx = np.argwhere(s == 0)\n",
    "        new_s = s.copy()\n",
    "        if(a == 'up'):\n",
    "            s[idx[0,0],idx[0,1]] = s[idx[0,0]+1,idx[0,1]]\n",
    "            s[idx[0,0]+1,idx[0,1]] = 0\n",
    "            \n",
    "            \n",
    "        if(a == 'down'):\n",
    "            s[idx[0,0],idx[0,1]] = s[idx[0,0]-1,idx[0,1]]\n",
    "            s[idx[0,0]-1,idx[0,1]] = 0\n",
    "            \n",
    "        \n",
    "        if(a == 'left'):\n",
    "            s[idx[0,0],idx[0,1]] = s[idx[0,0],idx[0,1]+1]\n",
    "            s[idx[0,0],idx[0,1]+1] = 0\n",
    "            \n",
    "        \n",
    "        if(a == 'right'):\n",
    "            s[idx[0,0],idx[0,1]] = s[idx[0,0],idx[0,1]-1]\n",
    "            s[idx[0,0],idx[0,1]-1] = 0\n",
    "            \n",
    "            \n",
    "        return new_s\n",
    "    \n",
    "    \n",
    "    \n",
    "\n"
   ]
  },
  {
   "cell_type": "code",
   "execution_count": 164,
   "metadata": {},
   "outputs": [
    {
     "name": "stdout",
     "output_type": "stream",
     "text": [
      "['down', 'up', 'right']\n"
     ]
    }
   ],
   "source": [
    "print(possible_actions(s_i))"
   ]
  },
  {
   "cell_type": "code",
   "execution_count": 165,
   "metadata": {},
   "outputs": [
    {
     "name": "stdout",
     "output_type": "stream",
     "text": [
      "[[1 2 3]\n",
      " [4 6 0]\n",
      " [7 5 8]]\n"
     ]
    }
   ],
   "source": [
    "s_2 = new_state(s_i,'right')\n"
   ]
  },
  {
   "cell_type": "code",
   "execution_count": 166,
   "metadata": {},
   "outputs": [
    {
     "name": "stdout",
     "output_type": "stream",
     "text": [
      "[[1 2 3]\n",
      " [4 6 0]\n",
      " [7 5 8]]\n"
     ]
    }
   ],
   "source": [
    "print(s_2)"
   ]
  },
  {
   "cell_type": "code",
   "execution_count": 147,
   "metadata": {
    "collapsed": true
   },
   "outputs": [],
   "source": [
    "class Node:\n",
    "    def __init__(self,father,state):\n",
    "        self.father = father\n",
    "        self.state = state\n",
    "        "
   ]
  },
  {
   "cell_type": "code",
   "execution_count": 175,
   "metadata": {},
   "outputs": [
    {
     "name": "stdout",
     "output_type": "stream",
     "text": [
      "n\n",
      " [[1 2 3]\n",
      " [4 0 6]\n",
      " [7 5 8]]\n",
      "n1\n",
      " [[1 2 3]\n",
      " [4 6 0]\n",
      " [7 5 8]]\n",
      "estoy en la meta\n",
      "deque(['n', 'n2', 'n3', 'n4'])\n",
      "deque(['n2', 'n3', 'n4'])\n"
     ]
    }
   ],
   "source": [
    "from collections import deque\n",
    "n = Node(None,s_i)\n",
    "print('n\\n',n.state)\n",
    "n1 = Node(n,new_s)\n",
    "print('n1\\n',n1.state)\n",
    "\n",
    "if(np.array_equal(n.state,s_g)== True):\n",
    "    print('estoy en la meta')\n",
    "else:\n",
    "    print('no estoy en la meta')\n",
    "    \n",
    "frontier = deque(['n','n2','n3'])\n",
    "frontier.append('n4')\n",
    "print(frontier)\n",
    "frontier.popleft()\n",
    "print(frontier)\n",
    "\n",
    "explored = []"
   ]
  },
  {
   "cell_type": "code",
   "execution_count": null,
   "metadata": {
    "collapsed": true
   },
   "outputs": [],
   "source": []
  }
 ],
 "metadata": {
  "kernelspec": {
   "display_name": "Python 3",
   "language": "python",
   "name": "python3"
  },
  "language_info": {
   "codemirror_mode": {
    "name": "ipython",
    "version": 3
   },
   "file_extension": ".py",
   "mimetype": "text/x-python",
   "name": "python",
   "nbconvert_exporter": "python",
   "pygments_lexer": "ipython3",
   "version": "3.5.2"
  }
 },
 "nbformat": 4,
 "nbformat_minor": 2
}
