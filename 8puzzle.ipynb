{
 "cells": [
  {
   "cell_type": "code",
   "execution_count": 99,
   "metadata": {
    "collapsed": true
   },
   "outputs": [],
   "source": [
    "import numpy as np"
   ]
  },
  {
   "cell_type": "markdown",
   "metadata": {},
   "source": [
    "# 8-Puzzle"
   ]
  },
  {
   "cell_type": "markdown",
   "metadata": {},
   "source": [
    "#Problem definition\n"
   ]
  },
  {
   "cell_type": "code",
   "execution_count": 100,
   "metadata": {},
   "outputs": [
    {
     "name": "stdout",
     "output_type": "stream",
     "text": [
      "s_i\n",
      " [[0 1 2]\n",
      " [4 5 3]\n",
      " [7 8 6]]\n",
      "s_g\n",
      " [[1 2 3]\n",
      " [4 5 6]\n",
      " [7 8 0]]\n"
     ]
    }
   ],
   "source": [
    "s_i = np.array([[0,1,2],[4,5,3],[7,8,6]])\n",
    "print('s_i\\n',s_i)\n",
    "s_g = np.array([[1,2,3],[4,5,6],[7,8,0]])\n",
    "print('s_g\\n',s_g)"
   ]
  },
  {
   "cell_type": "markdown",
   "metadata": {},
   "source": [
    "### Methods"
   ]
  },
  {
   "cell_type": "code",
   "execution_count": 101,
   "metadata": {
    "collapsed": true
   },
   "outputs": [],
   "source": [
    "def possible_actions(s):\n",
    "        \n",
    "        actions = []\n",
    "        \n",
    "        idx = np.argwhere(s == 0)\n",
    "        \n",
    "        if(idx[0,0]-1 >= 0):\n",
    "            actions.append('down')\n",
    "        \n",
    "        if(idx[0,0]+1 <= 2):\n",
    "            actions.append('up')\n",
    "            \n",
    "        if(idx[0,1]-1 >= 0):\n",
    "            actions.append('right')\n",
    "        \n",
    "        if(idx[0,1]+1 <= 2):\n",
    "            actions.append('left')\n",
    "            \n",
    "        \n",
    "        \n",
    "        return actions\n",
    "    \n",
    "\n",
    "def new_state(s,a):\n",
    "        \n",
    "        idx = np.argwhere(s == 0)\n",
    "        new_s = s.copy()\n",
    "        if(a == 'up'):\n",
    "            new_s[idx[0,0],idx[0,1]] = new_s[idx[0,0]+1,idx[0,1]]\n",
    "            new_s[idx[0,0]+1,idx[0,1]] = 0\n",
    "            \n",
    "            \n",
    "        if(a == 'down'):\n",
    "            new_s[idx[0,0],idx[0,1]] = new_s[idx[0,0]-1,idx[0,1]]\n",
    "            new_s[idx[0,0]-1,idx[0,1]] = 0\n",
    "            \n",
    "        \n",
    "        if(a == 'left'):\n",
    "            new_s[idx[0,0],idx[0,1]] = new_s[idx[0,0],idx[0,1]+1]\n",
    "            new_s[idx[0,0],idx[0,1]+1] = 0\n",
    "            \n",
    "        \n",
    "        if(a == 'right'):\n",
    "            new_s[idx[0,0],idx[0,1]] = new_s[idx[0,0],idx[0,1]-1]\n",
    "            new_s[idx[0,0],idx[0,1]-1] = 0\n",
    "            \n",
    "            \n",
    "        return new_s\n",
    "    \n",
    "    \n",
    "    \n",
    "\n"
   ]
  },
  {
   "cell_type": "code",
   "execution_count": 102,
   "metadata": {},
   "outputs": [
    {
     "name": "stdout",
     "output_type": "stream",
     "text": [
      "['up', 'left']\n"
     ]
    }
   ],
   "source": [
    "print(possible_actions(s_i))"
   ]
  },
  {
   "cell_type": "code",
   "execution_count": 103,
   "metadata": {
    "collapsed": true
   },
   "outputs": [],
   "source": [
    "class Node:\n",
    "    def __init__(self,father,state,action):\n",
    "        self.father = father\n",
    "        self.state = state\n",
    "        self.action = action\n",
    "        "
   ]
  },
  {
   "cell_type": "code",
   "execution_count": null,
   "metadata": {
    "collapsed": true
   },
   "outputs": [],
   "source": []
  },
  {
   "cell_type": "code",
   "execution_count": 104,
   "metadata": {},
   "outputs": [
    {
     "name": "stdout",
     "output_type": "stream",
     "text": [
      "nodo inicial\n",
      " [[0 1 2]\n",
      " [4 5 3]\n",
      " [7 8 6]]\n",
      "estado inicial\n",
      " [[0 1 2]\n",
      " [4 5 3]\n",
      " [7 8 6]]\n",
      "estado final\n",
      " [[1 2 3]\n",
      " [4 5 6]\n",
      " [7 8 0]]\n",
      "Preparando solucion...\n",
      "['left', 'left', 'up', 'up']\n"
     ]
    }
   ],
   "source": [
    "from collections import deque\n",
    "n = Node(None,s_i,None)\n",
    "print('nodo inicial\\n',n.state)\n",
    "print('estado inicial\\n',s_i)\n",
    "print('estado final\\n',s_g)\n",
    "\n",
    "    \n",
    "frontier = deque()\n",
    "frontier.append(n)\n",
    "\n",
    "\n",
    "explored = []\n",
    "\n",
    "def child_explored(child,explored):\n",
    "    \n",
    "    \n",
    "    \n",
    "    for state in explored:\n",
    "        if(np.array_equal(child,state) == True):\n",
    "            return True\n",
    "        \n",
    "    \n",
    "    return False\n",
    "       \n",
    "    \n",
    "    \n",
    "def child_frontier(child,frontier):\n",
    "    \n",
    "    \n",
    "\n",
    "    for node in frontier:\n",
    "        if(np.array_equal(child,node.state) == True):\n",
    "            return True\n",
    "    \n",
    "    return False\n",
    "            \n",
    "\n",
    "     \n",
    "level = 0        \n",
    "final_child = None        \n",
    "while(True):\n",
    "    if len(frontier)==0:\n",
    "        print('No hay solucion')\n",
    "        break\n",
    "    else:\n",
    "        n = frontier.popleft()\n",
    "        explored.append(n.state)\n",
    "        \n",
    "    solution = False\n",
    "    for action in possible_actions(n.state):\n",
    "        child = Node(n,new_state(n.state,action),action)\n",
    "       \n",
    "        if (child_explored(child.state,explored)==False and child_frontier(child.state,frontier)==False):\n",
    "            if(np.array_equal(child.state,s_g)==True):\n",
    "                \n",
    "                solution = True\n",
    "                final_child = child\n",
    "                \n",
    "                break\n",
    "\n",
    "            frontier.append(child)\n",
    "            \n",
    "            \n",
    "       \n",
    "    if (solution == True):\n",
    "        break\n",
    "\n",
    "\n",
    "print('Preparando solucion...')        \n",
    "node_aux = final_child\n",
    "sol_actions  = []\n",
    "while(node_aux.action != None):\n",
    "    sol_actions.append(node_aux.action)\n",
    "    node_aux = node_aux.father\n",
    "\n",
    "print(list(reversed(sol_actions)))\n",
    "    \n"
   ]
  },
  {
   "cell_type": "code",
   "execution_count": null,
   "metadata": {
    "collapsed": true
   },
   "outputs": [],
   "source": []
  }
 ],
 "metadata": {
  "kernelspec": {
   "display_name": "Python 3",
   "language": "python",
   "name": "python3"
  },
  "language_info": {
   "codemirror_mode": {
    "name": "ipython",
    "version": 3
   },
   "file_extension": ".py",
   "mimetype": "text/x-python",
   "name": "python",
   "nbconvert_exporter": "python",
   "pygments_lexer": "ipython3",
   "version": "3.5.2"
  }
 },
 "nbformat": 4,
 "nbformat_minor": 2
}
