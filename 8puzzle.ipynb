{
 "cells": [
  {
   "cell_type": "code",
   "execution_count": 1,
   "metadata": {
    "collapsed": true
   },
   "outputs": [],
   "source": [
    "import numpy as np"
   ]
  },
  {
   "cell_type": "markdown",
   "metadata": {},
   "source": [
    "# 8-Puzzle"
   ]
  },
  {
   "cell_type": "markdown",
   "metadata": {},
   "source": [
    "#Problem definition\n"
   ]
  },
  {
   "cell_type": "code",
   "execution_count": 197,
   "metadata": {},
   "outputs": [
    {
     "name": "stdout",
     "output_type": "stream",
     "text": [
      "s_i\n",
      " [[1 2 3]\n",
      " [4 6 0]\n",
      " [7 5 8]]\n",
      "s_f\n",
      " [[1 2 3]\n",
      " [4 5 6]\n",
      " [7 8 0]]\n"
     ]
    }
   ],
   "source": [
    "s_i = np.array([[1,2,3],[4,6,0],[7,5,8]])\n",
    "print('s_i\\n',s_i)\n",
    "s_f = np.array([[1,2,3],[4,5,6],[7,8,0]])\n",
    "print('s_f\\n',s_f)"
   ]
  },
  {
   "cell_type": "markdown",
   "metadata": {},
   "source": [
    "### Methods"
   ]
  },
  {
   "cell_type": "code",
   "execution_count": 198,
   "metadata": {
    "collapsed": true
   },
   "outputs": [],
   "source": [
    "\n",
    "\n",
    "class PL:\n",
    "    def possible_actions(s):\n",
    "        \n",
    "        actions = []\n",
    "        \n",
    "        idx = np.argwhere(s == 0)\n",
    "        \n",
    "        if(idx[0,0]-1 >= 0):\n",
    "            actions.append('down')\n",
    "        \n",
    "        if(idx[0,0]+1 <= 2):\n",
    "            actions.append('up')\n",
    "            \n",
    "        if(idx[0,1]-1 >= 0):\n",
    "            actions.append('right')\n",
    "        \n",
    "        if(idx[0,1]+1 <= 2):\n",
    "            actions.append('left')\n",
    "            \n",
    "        \n",
    "        \n",
    "        return actions\n",
    "    \n",
    "    def new_state(s,a):\n",
    "        \n",
    "        idx = np.argwhere(s == 0)\n",
    "        \n",
    "        if(a == 'up'):\n",
    "            s[idx[0,0],idx[0,1]] = s[idx[0,0]+1,idx[0,1]]\n",
    "            s[idx[0,0]+1,idx[0,1]] = 0\n",
    "            new_s = s\n",
    "            \n",
    "        if(a == 'down'):\n",
    "            s[idx[0,0],idx[0,1]] = s[idx[0,0]-1,idx[0,1]]\n",
    "            s[idx[0,0]-1,idx[0,1]] = 0\n",
    "            new_s = s\n",
    "        \n",
    "        if(a == 'left'):\n",
    "            s[idx[0,0],idx[0,1]] = s[idx[0,0],idx[0,1]+1]\n",
    "            s[idx[0,0],idx[0,1]+1] = 0\n",
    "            new_s = s\n",
    "        \n",
    "        if(a == 'right'):\n",
    "            s[idx[0,0],idx[0,1]] = s[idx[0,0],idx[0,1]-1]\n",
    "            s[idx[0,0],idx[0,1]-1] = 0\n",
    "            new_s = s\n",
    "            \n",
    "        return new_s"
   ]
  },
  {
   "cell_type": "code",
   "execution_count": 210,
   "metadata": {},
   "outputs": [
    {
     "name": "stdout",
     "output_type": "stream",
     "text": [
      "['up', 'left']\n"
     ]
    }
   ],
   "source": [
    "print(PL.possible_actions(s_i))"
   ]
  },
  {
   "cell_type": "code",
   "execution_count": 211,
   "metadata": {},
   "outputs": [
    {
     "name": "stdout",
     "output_type": "stream",
     "text": [
      "[[3 5 2]\n",
      " [0 6 4]\n",
      " [1 7 8]]\n"
     ]
    }
   ],
   "source": [
    "print(PL.new_state(s_i,'up'))\n"
   ]
  },
  {
   "cell_type": "code",
   "execution_count": null,
   "metadata": {
    "collapsed": true
   },
   "outputs": [],
   "source": []
  },
  {
   "cell_type": "code",
   "execution_count": null,
   "metadata": {
    "collapsed": true
   },
   "outputs": [],
   "source": []
  }
 ],
 "metadata": {
  "kernelspec": {
   "display_name": "Python 3",
   "language": "python",
   "name": "python3"
  },
  "language_info": {
   "codemirror_mode": {
    "name": "ipython",
    "version": 3
   },
   "file_extension": ".py",
   "mimetype": "text/x-python",
   "name": "python",
   "nbconvert_exporter": "python",
   "pygments_lexer": "ipython3",
   "version": "3.5.2"
  }
 },
 "nbformat": 4,
 "nbformat_minor": 2
}
